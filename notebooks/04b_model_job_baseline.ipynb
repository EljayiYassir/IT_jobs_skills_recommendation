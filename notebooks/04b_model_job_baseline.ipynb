{
 "cells": [
  {
   "cell_type": "code",
   "execution_count": 1,
   "id": "6824b842-9cf8-40fb-9792-ec3b17167001",
   "metadata": {},
   "outputs": [],
   "source": [
    "DF_PATH       = \"../data/processed/2_cleaned_data.pkl\"\n",
    "\n",
    "ROLE_COLS      = ['DevType']\n",
    "TECH_COLS      = ['DatabaseWorkedWith',\n",
    "                  'LanguageWorkedWith',\n",
    "                  # 'NEWCollabToolsWorkedWith',\n",
    "                  'PlatformWorkedWith',\n",
    "                  'MiscTechWorkedWith',\n",
    "                  'WebframeWorkedWith']\n",
    "SYST_COLS      = ['OpSys']\n",
    "\n",
    "MLFLOW_TRACKING_URI = '../models/mlruns'\n",
    "MLFLOW_EXPERIMENT_NAME = \"skills_jobs_stackoverflow\"\n",
    "\n",
    "LOG_PATH = \"../models/temp/\"\n",
    "LOG_DATA_PKL    =  \"data.pkl\"\n",
    "LOG_MODEL_PKL   =  \"model.pkl\"\n",
    "LOG_METRICS_PKL =  \"metrics.pkl\""
   ]
  },
  {
   "cell_type": "code",
   "execution_count": 2,
   "id": "d23c1608-0388-4846-bef3-d6cb67ed7539",
   "metadata": {
    "tags": []
   },
   "outputs": [],
   "source": [
    "# Load packages\n",
    "import pandas as pd \n",
    "import numpy as np\n",
    "import logging\n",
    "import pickle\n",
    "import random\n",
    "import plotly \n",
    "import os\n",
    "from pathlib import Path\n",
    "\n",
    "import mlflow\n",
    "from mlflow.tracking import MlflowClient\n",
    "\n",
    "from sklearn.preprocessing import MultiLabelBinarizer\n",
    "from sklearn.preprocessing import StandardScaler, RobustScaler, MinMaxScaler\n",
    "from sklearn.pipeline import make_pipeline, FeatureUnion\n",
    "from sklearn.feature_selection import VarianceThreshold\n",
    "from sklearn.multioutput import MultiOutputClassifier\n",
    "from sklearn.model_selection import train_test_split\n",
    "from sklearn.model_selection import GridSearchCV\n",
    "\n",
    "from sklearn import metrics\n",
    "from sklearn.metrics import auc, accuracy_score, confusion_matrix, f1_score, precision_score, recall_score\n",
    "\n",
    "from sklearn.decomposition import PCA, KernelPCA\n",
    "\n",
    "from sklearn import tree\n",
    "from sklearn.linear_model import LogisticRegression\n",
    "\n",
    "from matplotlib import pyplot as plt"
   ]
  },
  {
   "cell_type": "markdown",
   "id": "ebf3f245-5fe8-4f1a-a135-a9a670419bc5",
   "metadata": {},
   "source": [
    "_________"
   ]
  },
  {
   "cell_type": "markdown",
   "id": "717dc150-ba0c-48a2-9cfc-a6d259cff5c0",
   "metadata": {
    "tags": []
   },
   "source": [
    "### Functions"
   ]
  },
  {
   "cell_type": "code",
   "execution_count": 3,
   "id": "91508beb-46d3-416f-a359-cbd9f234afe8",
   "metadata": {},
   "outputs": [],
   "source": [
    "def calculate_quality(ground_truth, predictions, metric_function, sort_values=False):\n",
    "    quality_scores = {}\n",
    "    for col in predictions.columns:\n",
    "        role_pred  = predictions[col].copy()\n",
    "        role_truth = ground_truth[col].copy()\n",
    "        quality_scores[col] = round(metric_function(role_truth, role_pred) * 100, 2)\n",
    "        \n",
    "    quality_scores = pd.Series(quality_scores.values(), index=quality_scores.keys())\n",
    "    if sort_values:\n",
    "        quality_scores = quality_scores.sort_values()\n",
    "    \n",
    "    return quality_scores"
   ]
  },
  {
   "cell_type": "markdown",
   "id": "c4128f6d",
   "metadata": {},
   "source": [
    "_________"
   ]
  },
  {
   "cell_type": "markdown",
   "id": "e8369ddb",
   "metadata": {
    "pycharm": {
     "name": "#%% md\n"
    }
   },
   "source": [
    "# Initialize"
   ]
  },
  {
   "cell_type": "markdown",
   "id": "e658f440",
   "metadata": {},
   "source": [
    "### Create directories"
   ]
  },
  {
   "cell_type": "code",
   "execution_count": 4,
   "id": "03662318",
   "metadata": {
    "collapsed": false,
    "jupyter": {
     "outputs_hidden": false
    },
    "pycharm": {
     "name": "#%%\n"
    }
   },
   "outputs": [],
   "source": [
    "Path(MLFLOW_TRACKING_URI).mkdir(parents=True, exist_ok=True)\n",
    "Path(LOG_PATH).mkdir(parents=True, exist_ok=True)"
   ]
  },
  {
   "cell_type": "markdown",
   "id": "93785f8c",
   "metadata": {},
   "source": [
    "### Read data"
   ]
  },
  {
   "cell_type": "code",
   "execution_count": 5,
   "id": "94358036",
   "metadata": {
    "collapsed": false,
    "jupyter": {
     "outputs_hidden": false
    },
    "pycharm": {
     "name": "#%%\n"
    }
   },
   "outputs": [],
   "source": [
    "# Read Data\n",
    "df = pd.read_pickle(DF_PATH)\n",
    "Path(LOG_PATH).mkdir(parents=True, exist_ok=True)"
   ]
  },
  {
   "cell_type": "markdown",
   "id": "672d7a9c-3b9e-44bf-a360-28879aca6720",
   "metadata": {
    "tags": []
   },
   "source": [
    "### Balance classes "
   ]
  },
  {
   "cell_type": "code",
   "execution_count": 6,
   "id": "1a4498b3-c98d-43a2-89d6-9f957c3163c7",
   "metadata": {},
   "outputs": [
    {
     "data": {
      "text/plain": [
       "Academic researcher                               1430\n",
       "Data or business analyst                          1410\n",
       "Data scientist or machine learning specialist     1803\n",
       "Database administrator                            1027\n",
       "DevOps specialist                                 1985\n",
       "Developer, QA or test                             1065\n",
       "Developer, back-end                              13160\n",
       "Developer, desktop or enterprise applications     4029\n",
       "Developer, embedded applications or devices       1544\n",
       "Developer, front-end                              7300\n",
       "Developer, full-stack                            13990\n",
       "Developer, game or graphics                        855\n",
       "Developer, mobile                                 3633\n",
       "Engineer, data                                    1344\n",
       "Scientist                                          775\n",
       "System administrator                              1311\n",
       "dtype: int64"
      ]
     },
     "execution_count": 6,
     "metadata": {},
     "output_type": "execute_result"
    }
   ],
   "source": [
    "# Check the total samples of roles\n",
    "roles_df = df[\"DevType\"].copy()\n",
    "roles_df.sum(axis=0)"
   ]
  },
  {
   "cell_type": "code",
   "execution_count": 7,
   "id": "fca9b69a-cd32-446e-a72c-31d67fb7b155",
   "metadata": {},
   "outputs": [],
   "source": [
    "# Resample roles\n",
    "samples_per_class = 1200\n",
    "resampled_roles = []\n",
    "\n",
    "for role_col in roles_df.columns:\n",
    "    sub_df = roles_df.loc[roles_df[role_col] == 1].copy()\n",
    "    \n",
    "    if len(sub_df) < samples_per_class:\n",
    "        # Upsample\n",
    "        sub_df = sub_df.sample(samples_per_class, replace=True, random_state=0)\n",
    "    else:\n",
    "        # Downsample\n",
    "        sub_df = sub_df.sample(samples_per_class, random_state=0) \n",
    "    \n",
    "    resampled_roles.append(sub_df)"
   ]
  },
  {
   "cell_type": "code",
   "execution_count": 8,
   "id": "5243ca57-c4c6-4e07-b7ee-e8e4ad5052a1",
   "metadata": {},
   "outputs": [],
   "source": [
    "# Construct dfs\n",
    "roles_df  = pd.concat(resampled_roles)\n",
    "df = df.loc[roles_df.index].copy()"
   ]
  },
  {
   "cell_type": "code",
   "execution_count": 9,
   "id": "ce6f6e9d-8322-451b-9f13-cdc3281c0a2b",
   "metadata": {},
   "outputs": [
    {
     "data": {
      "text/plain": [
       "Academic researcher                              2470\n",
       "Data or business analyst                         2124\n",
       "Data scientist or machine learning specialist    2712\n",
       "Database administrator                           1864\n",
       "DevOps specialist                                2164\n",
       "Developer, QA or test                            1617\n",
       "Developer, back-end                              6826\n",
       "Developer, desktop or enterprise applications    2960\n",
       "Developer, embedded applications or devices      1816\n",
       "Developer, front-end                             3027\n",
       "Developer, full-stack                            5845\n",
       "Developer, game or graphics                      1559\n",
       "Developer, mobile                                2334\n",
       "Engineer, data                                   2088\n",
       "Scientist                                        1915\n",
       "System administrator                             2012\n",
       "dtype: int64"
      ]
     },
     "execution_count": 9,
     "metadata": {},
     "output_type": "execute_result"
    }
   ],
   "source": [
    "roles_df.sum(axis=0)"
   ]
  },
  {
   "cell_type": "markdown",
   "id": "cf5833db-2a42-4ee4-bc1b-343a45235f7e",
   "metadata": {
    "tags": []
   },
   "source": [
    "### Split"
   ]
  },
  {
   "cell_type": "code",
   "execution_count": 10,
   "id": "6d17cc20-d76b-4d30-84c1-62aad2ad3af2",
   "metadata": {},
   "outputs": [
    {
     "name": "stderr",
     "output_type": "stream",
     "text": [
      "/tmp/ipykernel_2464463/1098765831.py:1: PerformanceWarning: dropping on a non-lexsorted multi-index without a level parameter may impact performance.\n",
      "  X_train, X_test, Y_train, Y_test = train_test_split(df.drop(\"DevType\", axis=1),\n"
     ]
    }
   ],
   "source": [
    "X_train, X_test, Y_train, Y_test = train_test_split(df.drop(\"DevType\", axis=1), \n",
    "                                                    df[\"DevType\"], \n",
    "                                                    random_state=0)"
   ]
  },
  {
   "cell_type": "markdown",
   "id": "05fc6bcc-a6dc-48bb-97e4-2b2b9566a1df",
   "metadata": {},
   "source": [
    "____________"
   ]
  },
  {
   "cell_type": "markdown",
   "id": "3f31fd6c-f625-4d5d-851c-8e6fed42bfe5",
   "metadata": {
    "tags": []
   },
   "source": [
    "# Train models"
   ]
  },
  {
   "cell_type": "markdown",
   "id": "cfc7c2b7-5dbc-4c78-a51b-a79b83e522fe",
   "metadata": {
    "tags": []
   },
   "source": [
    "### Initialize MLflow"
   ]
  },
  {
   "cell_type": "code",
   "execution_count": 55,
   "id": "d2db7a05-fbdf-404c-af01-d50cd3adba45",
   "metadata": {},
   "outputs": [
    {
     "name": "stderr",
     "output_type": "stream",
     "text": [
      "2022/11/10 23:07:35 INFO mlflow.tracking.fluent: Experiment with name 'skills_jobs_stackoverflow' does not exist. Creating a new experiment.\n"
     ]
    }
   ],
   "source": [
    "# Initialize client and experiment\n",
    "mlflow.set_tracking_uri(MLFLOW_TRACKING_URI)\n",
    "client = mlflow.MlflowClient()\n",
    "mlflow.get_experiment_by_name(MLFLOW_EXPERIMENT_NAME)\n",
    "exp = mlflow.set_experiment(MLFLOW_EXPERIMENT_NAME)"
   ]
  },
  {
   "cell_type": "code",
   "execution_count": 45,
   "id": "4c8d22ed-43ea-47a2-8be1-601e10937205",
   "metadata": {},
   "outputs": [
    {
     "data": {
      "text/plain": [
       "<bound method MlflowClient.get_experiment_by_name of <mlflow.tracking.client.MlflowClient object at 0x7fbf66cb7ca0>>"
      ]
     },
     "execution_count": 45,
     "metadata": {},
     "output_type": "execute_result"
    }
   ],
   "source": [
    "client.get_experiment_by_\n",
    "name"
   ]
  },
  {
   "cell_type": "markdown",
   "id": "f0fc2b64-c68e-460b-bfdf-8f70606ccff4",
   "metadata": {
    "tags": []
   },
   "source": [
    "### 1. Logistic regression"
   ]
  },
  {
   "cell_type": "code",
   "execution_count": 12,
   "id": "ce7f1723-a750-4924-892e-1c8422169044",
   "metadata": {},
   "outputs": [],
   "source": [
    "clf = make_pipeline(StandardScaler(),\n",
    "                    MultiOutputClassifier(LogisticRegression()))\n",
    "\n",
    "clf.fit(X_train.values, Y_train.values)\n",
    "predictions =  pd.DataFrame(clf.predict(X_train.values),\n",
    "                            columns=Y_train.columns)"
   ]
  },
  {
   "cell_type": "code",
   "execution_count": 13,
   "id": "3e791860-6e49-44ec-83b5-3f44bfdb6dfb",
   "metadata": {},
   "outputs": [],
   "source": [
    "# Evaluate on training set\n",
    "predictions =  pd.DataFrame(clf.predict(X_train.values),\n",
    "                            columns=Y_train.columns)\n",
    "train_scores = {score.__name__: calculate_quality(Y_train, predictions, score) \n",
    "                for score in [accuracy_score, precision_score, recall_score, f1_score]}\n",
    "train_scores = pd.concat(train_scores,axis=1)"
   ]
  },
  {
   "cell_type": "code",
   "execution_count": 14,
   "id": "aaa4c49e-1a77-4eec-8677-5cee37aae884",
   "metadata": {},
   "outputs": [
    {
     "name": "stderr",
     "output_type": "stream",
     "text": [
      "/home/saitama/anaconda3/envs/endproject/lib/python3.10/site-packages/sklearn/metrics/_classification.py:1334: UndefinedMetricWarning: Precision is ill-defined and being set to 0.0 due to no predicted samples. Use `zero_division` parameter to control this behavior.\n",
      "  _warn_prf(average, modifier, msg_start, len(result))\n"
     ]
    }
   ],
   "source": [
    "# Evaluate on test set\n",
    "predictions =  pd.DataFrame(clf.predict(X_test.values), columns=Y_test.columns)\n",
    "test_scores = {score.__name__: calculate_quality(Y_test, predictions, score) \n",
    "                for score in [accuracy_score, precision_score, recall_score, f1_score]}\n",
    "test_scores = pd.concat(test_scores,axis=1)\n",
    "mean_test_scores = test_scores.mean()"
   ]
  },
  {
   "cell_type": "code",
   "execution_count": 15,
   "id": "f3ab03f9-2547-4622-b7d3-b15a2ea9b3b7",
   "metadata": {},
   "outputs": [
    {
     "name": "stdout",
     "output_type": "stream",
     "text": [
      "accuracy_score     88.145000\n",
      "precision_score    59.436250\n",
      "recall_score       28.103125\n",
      "f1_score           36.148750\n",
      "dtype: float64\n"
     ]
    },
    {
     "data": {
      "text/html": [
       "<div>\n",
       "<style scoped>\n",
       "    .dataframe tbody tr th:only-of-type {\n",
       "        vertical-align: middle;\n",
       "    }\n",
       "\n",
       "    .dataframe tbody tr th {\n",
       "        vertical-align: top;\n",
       "    }\n",
       "\n",
       "    .dataframe thead th {\n",
       "        text-align: right;\n",
       "    }\n",
       "</style>\n",
       "<table border=\"1\" class=\"dataframe\">\n",
       "  <thead>\n",
       "    <tr style=\"text-align: right;\">\n",
       "      <th></th>\n",
       "      <th>accuracy_score</th>\n",
       "      <th>precision_score</th>\n",
       "      <th>recall_score</th>\n",
       "      <th>f1_score</th>\n",
       "    </tr>\n",
       "  </thead>\n",
       "  <tbody>\n",
       "    <tr>\n",
       "      <th>Academic researcher</th>\n",
       "      <td>88.08</td>\n",
       "      <td>60.12</td>\n",
       "      <td>16.67</td>\n",
       "      <td>26.10</td>\n",
       "    </tr>\n",
       "    <tr>\n",
       "      <th>Data or business analyst</th>\n",
       "      <td>90.48</td>\n",
       "      <td>69.10</td>\n",
       "      <td>29.49</td>\n",
       "      <td>41.34</td>\n",
       "    </tr>\n",
       "    <tr>\n",
       "      <th>Data scientist or machine learning specialist</th>\n",
       "      <td>90.96</td>\n",
       "      <td>75.89</td>\n",
       "      <td>53.16</td>\n",
       "      <td>62.52</td>\n",
       "    </tr>\n",
       "    <tr>\n",
       "      <th>Database administrator</th>\n",
       "      <td>90.23</td>\n",
       "      <td>48.65</td>\n",
       "      <td>3.85</td>\n",
       "      <td>7.13</td>\n",
       "    </tr>\n",
       "    <tr>\n",
       "      <th>DevOps specialist</th>\n",
       "      <td>90.79</td>\n",
       "      <td>66.52</td>\n",
       "      <td>29.54</td>\n",
       "      <td>40.91</td>\n",
       "    </tr>\n",
       "    <tr>\n",
       "      <th>Developer, QA or test</th>\n",
       "      <td>91.42</td>\n",
       "      <td>0.00</td>\n",
       "      <td>0.00</td>\n",
       "      <td>0.00</td>\n",
       "    </tr>\n",
       "    <tr>\n",
       "      <th>Developer, back-end</th>\n",
       "      <td>71.42</td>\n",
       "      <td>66.56</td>\n",
       "      <td>45.11</td>\n",
       "      <td>53.77</td>\n",
       "    </tr>\n",
       "    <tr>\n",
       "      <th>Developer, desktop or enterprise applications</th>\n",
       "      <td>83.79</td>\n",
       "      <td>51.32</td>\n",
       "      <td>9.97</td>\n",
       "      <td>16.70</td>\n",
       "    </tr>\n",
       "    <tr>\n",
       "      <th>Developer, embedded applications or devices</th>\n",
       "      <td>92.17</td>\n",
       "      <td>60.47</td>\n",
       "      <td>30.88</td>\n",
       "      <td>40.88</td>\n",
       "    </tr>\n",
       "    <tr>\n",
       "      <th>Developer, front-end</th>\n",
       "      <td>86.67</td>\n",
       "      <td>65.65</td>\n",
       "      <td>38.31</td>\n",
       "      <td>48.39</td>\n",
       "    </tr>\n",
       "    <tr>\n",
       "      <th>Developer, full-stack</th>\n",
       "      <td>77.25</td>\n",
       "      <td>67.10</td>\n",
       "      <td>52.32</td>\n",
       "      <td>58.79</td>\n",
       "    </tr>\n",
       "    <tr>\n",
       "      <th>Developer, game or graphics</th>\n",
       "      <td>93.50</td>\n",
       "      <td>75.24</td>\n",
       "      <td>37.26</td>\n",
       "      <td>49.84</td>\n",
       "    </tr>\n",
       "    <tr>\n",
       "      <th>Developer, mobile</th>\n",
       "      <td>93.73</td>\n",
       "      <td>74.95</td>\n",
       "      <td>64.58</td>\n",
       "      <td>69.38</td>\n",
       "    </tr>\n",
       "    <tr>\n",
       "      <th>Engineer, data</th>\n",
       "      <td>89.98</td>\n",
       "      <td>58.33</td>\n",
       "      <td>15.31</td>\n",
       "      <td>24.25</td>\n",
       "    </tr>\n",
       "    <tr>\n",
       "      <th>Scientist</th>\n",
       "      <td>90.04</td>\n",
       "      <td>51.46</td>\n",
       "      <td>11.02</td>\n",
       "      <td>18.15</td>\n",
       "    </tr>\n",
       "    <tr>\n",
       "      <th>System administrator</th>\n",
       "      <td>89.81</td>\n",
       "      <td>59.62</td>\n",
       "      <td>12.18</td>\n",
       "      <td>20.23</td>\n",
       "    </tr>\n",
       "  </tbody>\n",
       "</table>\n",
       "</div>"
      ],
      "text/plain": [
       "                                               accuracy_score  \\\n",
       "Academic researcher                                     88.08   \n",
       "Data or business analyst                                90.48   \n",
       "Data scientist or machine learning specialist           90.96   \n",
       "Database administrator                                  90.23   \n",
       "DevOps specialist                                       90.79   \n",
       "Developer, QA or test                                   91.42   \n",
       "Developer, back-end                                     71.42   \n",
       "Developer, desktop or enterprise applications           83.79   \n",
       "Developer, embedded applications or devices             92.17   \n",
       "Developer, front-end                                    86.67   \n",
       "Developer, full-stack                                   77.25   \n",
       "Developer, game or graphics                             93.50   \n",
       "Developer, mobile                                       93.73   \n",
       "Engineer, data                                          89.98   \n",
       "Scientist                                               90.04   \n",
       "System administrator                                    89.81   \n",
       "\n",
       "                                               precision_score  recall_score  \\\n",
       "Academic researcher                                      60.12         16.67   \n",
       "Data or business analyst                                 69.10         29.49   \n",
       "Data scientist or machine learning specialist            75.89         53.16   \n",
       "Database administrator                                   48.65          3.85   \n",
       "DevOps specialist                                        66.52         29.54   \n",
       "Developer, QA or test                                     0.00          0.00   \n",
       "Developer, back-end                                      66.56         45.11   \n",
       "Developer, desktop or enterprise applications            51.32          9.97   \n",
       "Developer, embedded applications or devices              60.47         30.88   \n",
       "Developer, front-end                                     65.65         38.31   \n",
       "Developer, full-stack                                    67.10         52.32   \n",
       "Developer, game or graphics                              75.24         37.26   \n",
       "Developer, mobile                                        74.95         64.58   \n",
       "Engineer, data                                           58.33         15.31   \n",
       "Scientist                                                51.46         11.02   \n",
       "System administrator                                     59.62         12.18   \n",
       "\n",
       "                                               f1_score  \n",
       "Academic researcher                               26.10  \n",
       "Data or business analyst                          41.34  \n",
       "Data scientist or machine learning specialist     62.52  \n",
       "Database administrator                             7.13  \n",
       "DevOps specialist                                 40.91  \n",
       "Developer, QA or test                              0.00  \n",
       "Developer, back-end                               53.77  \n",
       "Developer, desktop or enterprise applications     16.70  \n",
       "Developer, embedded applications or devices       40.88  \n",
       "Developer, front-end                              48.39  \n",
       "Developer, full-stack                             58.79  \n",
       "Developer, game or graphics                       49.84  \n",
       "Developer, mobile                                 69.38  \n",
       "Engineer, data                                    24.25  \n",
       "Scientist                                         18.15  \n",
       "System administrator                              20.23  "
      ]
     },
     "execution_count": 15,
     "metadata": {},
     "output_type": "execute_result"
    }
   ],
   "source": [
    "print(mean_test_scores)\n",
    "test_scores"
   ]
  },
  {
   "cell_type": "markdown",
   "id": "77fda7cf-f4be-4f31-810f-cd25d88303d9",
   "metadata": {},
   "source": [
    "## Log run"
   ]
  },
  {
   "cell_type": "markdown",
   "id": "de80658c",
   "metadata": {
    "pycharm": {
     "name": "#%% md\n"
    }
   },
   "source": [
    "### 1. Prepare"
   ]
  },
  {
   "cell_type": "code",
   "execution_count": 16,
   "id": "7907e71a-6555-4b16-aafe-e7f616a02afe",
   "metadata": {
    "tags": []
   },
   "outputs": [],
   "source": [
    "# Data details\n",
    "data_details = {\"data_path\": DF_PATH,\n",
    "                \"training_indices\": X_train.index.tolist(),\n",
    "                \"test_indices\":     X_test.index.tolist(), \n",
    "                \"features_names\":   X_train.columns.droplevel(0).tolist(),\n",
    "                \"targets_names\":    Y_train.columns.tolist()}\n",
    "\n",
    "with open(os.path.join(LOG_PATH, LOG_DATA_PKL), \"wb\") as output_file:\n",
    "    pickle.dump(data_details, output_file)"
   ]
  },
  {
   "cell_type": "code",
   "execution_count": 17,
   "id": "c78902e6-eb16-41fd-afe5-7d29f51741bf",
   "metadata": {},
   "outputs": [],
   "source": [
    "# Model\n",
    "model = {\"model_description\": \"Baseline model: Logistic Regression \",\n",
    "         \"model_details\": str(clf),\n",
    "         \"model_object\": clf} \n",
    "\n",
    "with open(os.path.join(LOG_PATH, LOG_MODEL_PKL), \"wb\") as output_file:\n",
    "    pickle.dump(model, output_file)"
   ]
  },
  {
   "cell_type": "code",
   "execution_count": 18,
   "id": "504e7af8-dd5a-4aee-bf80-56748e0a6faa",
   "metadata": {},
   "outputs": [],
   "source": [
    "# Performance details\n",
    "classes_metrics = {\"train_scores\": train_scores, \n",
    "                   \"test_scores\":  test_scores}\n",
    "\n",
    "with open(os.path.join(LOG_PATH, LOG_METRICS_PKL), \"wb\") as output_file:\n",
    "    pickle.dump(classes_metrics, output_file)"
   ]
  },
  {
   "cell_type": "markdown",
   "id": "00a7c5eb",
   "metadata": {},
   "source": [
    "### 2. Log"
   ]
  },
  {
   "cell_type": "code",
   "execution_count": 56,
   "id": "d3a2b1c7-30fc-42cf-a952-29abfa1ac0b6",
   "metadata": {},
   "outputs": [],
   "source": [
    "# Start a new run and track \n",
    "with mlflow.start_run(experiment_id=exp.experiment_id, run_name=model[\"model_description\"]):\n",
    "    # Log pickles \n",
    "    mlflow.log_artifacts(LOG_PATH)\n",
    "    \n",
    "    # Track metrics \n",
    "    for metric, score in mean_test_scores.items():\n",
    "        mlflow.log_metric(metric, score) \n",
    "    "
   ]
  },
  {
   "cell_type": "code",
   "execution_count": null,
   "id": "de382c91-f301-4aa7-81f8-9ca6bc00491a",
   "metadata": {},
   "outputs": [],
   "source": []
  }
 ],
 "metadata": {
  "kernelspec": {
   "display_name": "Python 3 (ipykernel)",
   "language": "python",
   "name": "python3"
  },
  "language_info": {
   "codemirror_mode": {
    "name": "ipython",
    "version": 3
   },
   "file_extension": ".py",
   "mimetype": "text/x-python",
   "name": "python",
   "nbconvert_exporter": "python",
   "pygments_lexer": "ipython3",
   "version": "3.11.4"
  }
 },
 "nbformat": 4,
 "nbformat_minor": 5
}
