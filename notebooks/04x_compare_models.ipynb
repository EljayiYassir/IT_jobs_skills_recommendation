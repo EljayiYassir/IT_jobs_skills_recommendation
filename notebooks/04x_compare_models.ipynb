{
 "cells": [
  {
   "cell_type": "code",
   "execution_count": 1,
   "metadata": {},
   "outputs": [],
   "source": [
    "MLFLOW_TRACKING_URI = '../models/mlruns'\n",
    "MLFLOW_EXPERIMENT_NAME = \"skills_jobs_stackoverflow\""
   ]
  },
  {
   "cell_type": "code",
   "execution_count": 2,
   "metadata": {
    "collapsed": false,
    "jupyter": {
     "outputs_hidden": false
    },
    "pycharm": {
     "name": "#%%\n"
    }
   },
   "outputs": [],
   "source": [
    "import mlflow\n",
    "from mlflow.tracking import MlflowClient\n",
    "\n",
    "import pandas as pd"
   ]
  },
  {
   "cell_type": "code",
   "execution_count": 3,
   "metadata": {
    "collapsed": false,
    "jupyter": {
     "outputs_hidden": false
    },
    "pycharm": {
     "name": "#%%\n"
    }
   },
   "outputs": [],
   "source": [
    "# Initialize client\n",
    "mlflow.set_tracking_uri(MLFLOW_TRACKING_URI)\n",
    "client = MlflowClient()"
   ]
  },
  {
   "cell_type": "code",
   "execution_count": 4,
   "metadata": {
    "collapsed": false,
    "jupyter": {
     "outputs_hidden": false
    },
    "pycharm": {
     "name": "#%%\n"
    }
   },
   "outputs": [
    {
     "data": {
      "text/plain": [
       "<Experiment: artifact_location='../models/mlruns/1', creation_time=1668118055116, experiment_id='1', last_update_time=1668118055116, lifecycle_stage='active', name='skills_jobs_stackoverflow', tags={}>"
      ]
     },
     "execution_count": 4,
     "metadata": {},
     "output_type": "execute_result"
    }
   ],
   "source": [
    "# Get experiment\n",
    "experiment = client.get_experiment_by_name(MLFLOW_EXPERIMENT_NAME)\n",
    "experiment"
   ]
  },
  {
   "cell_type": "code",
   "execution_count": 5,
   "metadata": {
    "collapsed": false,
    "jupyter": {
     "outputs_hidden": false
    },
    "pycharm": {
     "name": "#%%\n"
    }
   },
   "outputs": [
    {
     "data": {
      "text/html": [
       "<div>\n",
       "<style scoped>\n",
       "    .dataframe tbody tr th:only-of-type {\n",
       "        vertical-align: middle;\n",
       "    }\n",
       "\n",
       "    .dataframe tbody tr th {\n",
       "        vertical-align: top;\n",
       "    }\n",
       "\n",
       "    .dataframe thead th {\n",
       "        text-align: right;\n",
       "    }\n",
       "</style>\n",
       "<table border=\"1\" class=\"dataframe\">\n",
       "  <thead>\n",
       "    <tr style=\"text-align: right;\">\n",
       "      <th></th>\n",
       "      <th>run_id</th>\n",
       "      <th>experiment_id</th>\n",
       "      <th>status</th>\n",
       "      <th>artifact_uri</th>\n",
       "      <th>start_time</th>\n",
       "      <th>end_time</th>\n",
       "      <th>metrics.f1_score</th>\n",
       "      <th>metrics.recall_score</th>\n",
       "      <th>metrics.precision_score</th>\n",
       "      <th>metrics.accuracy_score</th>\n",
       "      <th>metrics..ipynb_checkpoints/accuracy_score-checkpoint</th>\n",
       "      <th>metrics..ipynb_checkpoints/f1_score-checkpoint</th>\n",
       "      <th>metrics..ipynb_checkpoints/precision_score-checkpoint</th>\n",
       "      <th>tags.mlflow.user</th>\n",
       "      <th>tags.mlflow.runName</th>\n",
       "      <th>tags.mlflow.source.name</th>\n",
       "      <th>tags.mlflow.source.type</th>\n",
       "      <th>tags..ipynb_checkpoints/mlflow.source-checkpoint.name</th>\n",
       "    </tr>\n",
       "  </thead>\n",
       "  <tbody>\n",
       "    <tr>\n",
       "      <th>0</th>\n",
       "      <td>1a52e0cb0c20440abefd49de472c2663</td>\n",
       "      <td>1</td>\n",
       "      <td>FINISHED</td>\n",
       "      <td>../models/mlruns/1/1a52e0cb0c20440abefd49de472...</td>\n",
       "      <td>2022-11-12 22:54:35.200000+00:00</td>\n",
       "      <td>2022-11-12 22:54:51.121000+00:00</td>\n",
       "      <td>72.80875</td>\n",
       "      <td>60.541250</td>\n",
       "      <td>93.240625</td>\n",
       "      <td>93.354375</td>\n",
       "      <td>NaN</td>\n",
       "      <td>NaN</td>\n",
       "      <td>NaN</td>\n",
       "      <td>saitama</td>\n",
       "      <td>Random Forest: with PCA + Hyperparamter tuning</td>\n",
       "      <td>/home/saitama/.local/lib/python3.10/site-packa...</td>\n",
       "      <td>LOCAL</td>\n",
       "      <td>None</td>\n",
       "    </tr>\n",
       "    <tr>\n",
       "      <th>1</th>\n",
       "      <td>d7400391ce9248f7991a3c68eb23e27a</td>\n",
       "      <td>1</td>\n",
       "      <td>FINISHED</td>\n",
       "      <td>../models/mlruns/1/d7400391ce9248f7991a3c68eb2...</td>\n",
       "      <td>2022-11-12 21:55:53.504000+00:00</td>\n",
       "      <td>2022-11-12 21:55:54.368000+00:00</td>\n",
       "      <td>72.80875</td>\n",
       "      <td>60.541250</td>\n",
       "      <td>93.240625</td>\n",
       "      <td>93.354375</td>\n",
       "      <td>NaN</td>\n",
       "      <td>NaN</td>\n",
       "      <td>NaN</td>\n",
       "      <td>saitama</td>\n",
       "      <td>Random Forest: with PCA - Basic</td>\n",
       "      <td>/home/saitama/.local/lib/python3.10/site-packa...</td>\n",
       "      <td>LOCAL</td>\n",
       "      <td>None</td>\n",
       "    </tr>\n",
       "    <tr>\n",
       "      <th>2</th>\n",
       "      <td>eaa0dc602ea341bb9a1f38f949ee2102</td>\n",
       "      <td>1</td>\n",
       "      <td>FINISHED</td>\n",
       "      <td>../models/mlruns/1/eaa0dc602ea341bb9a1f38f949e...</td>\n",
       "      <td>2022-11-10 23:06:09.342000+00:00</td>\n",
       "      <td>2022-11-10 23:06:23.839000+00:00</td>\n",
       "      <td>72.80875</td>\n",
       "      <td>60.541250</td>\n",
       "      <td>93.240625</td>\n",
       "      <td>93.354375</td>\n",
       "      <td>NaN</td>\n",
       "      <td>NaN</td>\n",
       "      <td>NaN</td>\n",
       "      <td>saitama</td>\n",
       "      <td>Random Forest: with PCA + Hyperparamter tuning</td>\n",
       "      <td>/home/saitama/.local/lib/python3.10/site-packa...</td>\n",
       "      <td>LOCAL</td>\n",
       "      <td>None</td>\n",
       "    </tr>\n",
       "    <tr>\n",
       "      <th>3</th>\n",
       "      <td>d744d80a85f34f4f9d690fde815db3e7</td>\n",
       "      <td>1</td>\n",
       "      <td>FINISHED</td>\n",
       "      <td>../models/mlruns/1/d744d80a85f34f4f9d690fde815...</td>\n",
       "      <td>2022-11-10 22:10:16.481000+00:00</td>\n",
       "      <td>2022-11-10 22:10:17.050000+00:00</td>\n",
       "      <td>72.80875</td>\n",
       "      <td>60.541250</td>\n",
       "      <td>93.240625</td>\n",
       "      <td>93.354375</td>\n",
       "      <td>NaN</td>\n",
       "      <td>NaN</td>\n",
       "      <td>NaN</td>\n",
       "      <td>saitama</td>\n",
       "      <td>Random Forest: with PCA - Basic</td>\n",
       "      <td>/home/saitama/.local/lib/python3.10/site-packa...</td>\n",
       "      <td>LOCAL</td>\n",
       "      <td>None</td>\n",
       "    </tr>\n",
       "    <tr>\n",
       "      <th>4</th>\n",
       "      <td>17b82d378675448f80fe2d915eca455d</td>\n",
       "      <td>1</td>\n",
       "      <td>FINISHED</td>\n",
       "      <td>../models/mlruns/1/17b82d378675448f80fe2d915ec...</td>\n",
       "      <td>2022-11-10 22:07:46.740000+00:00</td>\n",
       "      <td>2022-11-10 22:07:46.762000+00:00</td>\n",
       "      <td>36.14875</td>\n",
       "      <td>28.103125</td>\n",
       "      <td>59.436250</td>\n",
       "      <td>88.145000</td>\n",
       "      <td>88.145</td>\n",
       "      <td>36.14875</td>\n",
       "      <td>59.43625</td>\n",
       "      <td>saitama</td>\n",
       "      <td>Baseline model: Logistic Regression</td>\n",
       "      <td>/home/saitama/.local/lib/python3.10/site-packa...</td>\n",
       "      <td>LOCAL</td>\n",
       "      <td>/home/saitama/.local/lib/python3.10/site-packa...</td>\n",
       "    </tr>\n",
       "  </tbody>\n",
       "</table>\n",
       "</div>"
      ],
      "text/plain": [
       "                             run_id experiment_id    status  \\\n",
       "0  1a52e0cb0c20440abefd49de472c2663             1  FINISHED   \n",
       "1  d7400391ce9248f7991a3c68eb23e27a             1  FINISHED   \n",
       "2  eaa0dc602ea341bb9a1f38f949ee2102             1  FINISHED   \n",
       "3  d744d80a85f34f4f9d690fde815db3e7             1  FINISHED   \n",
       "4  17b82d378675448f80fe2d915eca455d             1  FINISHED   \n",
       "\n",
       "                                        artifact_uri  \\\n",
       "0  ../models/mlruns/1/1a52e0cb0c20440abefd49de472...   \n",
       "1  ../models/mlruns/1/d7400391ce9248f7991a3c68eb2...   \n",
       "2  ../models/mlruns/1/eaa0dc602ea341bb9a1f38f949e...   \n",
       "3  ../models/mlruns/1/d744d80a85f34f4f9d690fde815...   \n",
       "4  ../models/mlruns/1/17b82d378675448f80fe2d915ec...   \n",
       "\n",
       "                        start_time                         end_time  \\\n",
       "0 2022-11-12 22:54:35.200000+00:00 2022-11-12 22:54:51.121000+00:00   \n",
       "1 2022-11-12 21:55:53.504000+00:00 2022-11-12 21:55:54.368000+00:00   \n",
       "2 2022-11-10 23:06:09.342000+00:00 2022-11-10 23:06:23.839000+00:00   \n",
       "3 2022-11-10 22:10:16.481000+00:00 2022-11-10 22:10:17.050000+00:00   \n",
       "4 2022-11-10 22:07:46.740000+00:00 2022-11-10 22:07:46.762000+00:00   \n",
       "\n",
       "   metrics.f1_score  metrics.recall_score  metrics.precision_score  \\\n",
       "0          72.80875             60.541250                93.240625   \n",
       "1          72.80875             60.541250                93.240625   \n",
       "2          72.80875             60.541250                93.240625   \n",
       "3          72.80875             60.541250                93.240625   \n",
       "4          36.14875             28.103125                59.436250   \n",
       "\n",
       "   metrics.accuracy_score  \\\n",
       "0               93.354375   \n",
       "1               93.354375   \n",
       "2               93.354375   \n",
       "3               93.354375   \n",
       "4               88.145000   \n",
       "\n",
       "   metrics..ipynb_checkpoints/accuracy_score-checkpoint  \\\n",
       "0                                                NaN      \n",
       "1                                                NaN      \n",
       "2                                                NaN      \n",
       "3                                                NaN      \n",
       "4                                             88.145      \n",
       "\n",
       "   metrics..ipynb_checkpoints/f1_score-checkpoint  \\\n",
       "0                                             NaN   \n",
       "1                                             NaN   \n",
       "2                                             NaN   \n",
       "3                                             NaN   \n",
       "4                                        36.14875   \n",
       "\n",
       "   metrics..ipynb_checkpoints/precision_score-checkpoint tags.mlflow.user  \\\n",
       "0                                                NaN              saitama   \n",
       "1                                                NaN              saitama   \n",
       "2                                                NaN              saitama   \n",
       "3                                                NaN              saitama   \n",
       "4                                           59.43625              saitama   \n",
       "\n",
       "                              tags.mlflow.runName  \\\n",
       "0  Random Forest: with PCA + Hyperparamter tuning   \n",
       "1                 Random Forest: with PCA - Basic   \n",
       "2  Random Forest: with PCA + Hyperparamter tuning   \n",
       "3                 Random Forest: with PCA - Basic   \n",
       "4            Baseline model: Logistic Regression    \n",
       "\n",
       "                             tags.mlflow.source.name tags.mlflow.source.type  \\\n",
       "0  /home/saitama/.local/lib/python3.10/site-packa...                   LOCAL   \n",
       "1  /home/saitama/.local/lib/python3.10/site-packa...                   LOCAL   \n",
       "2  /home/saitama/.local/lib/python3.10/site-packa...                   LOCAL   \n",
       "3  /home/saitama/.local/lib/python3.10/site-packa...                   LOCAL   \n",
       "4  /home/saitama/.local/lib/python3.10/site-packa...                   LOCAL   \n",
       "\n",
       "  tags..ipynb_checkpoints/mlflow.source-checkpoint.name  \n",
       "0                                               None     \n",
       "1                                               None     \n",
       "2                                               None     \n",
       "3                                               None     \n",
       "4  /home/saitama/.local/lib/python3.10/site-packa...     "
      ]
     },
     "execution_count": 5,
     "metadata": {},
     "output_type": "execute_result"
    }
   ],
   "source": [
    "# Get all runs\n",
    "runs = mlflow.search_runs([experiment.experiment_id])\n",
    "runs"
   ]
  },
  {
   "cell_type": "code",
   "execution_count": null,
   "metadata": {
    "collapsed": false,
    "jupyter": {
     "outputs_hidden": false
    },
    "pycharm": {
     "name": "#%%\n"
    }
   },
   "outputs": [],
   "source": []
  }
 ],
 "metadata": {
  "kernelspec": {
   "display_name": "Python 3 (ipykernel)",
   "language": "python",
   "name": "python3"
  },
  "language_info": {
   "codemirror_mode": {
    "name": "ipython",
    "version": 3
   },
   "file_extension": ".py",
   "mimetype": "text/x-python",
   "name": "python",
   "nbconvert_exporter": "python",
   "pygments_lexer": "ipython3",
   "version": "3.11.4"
  }
 },
 "nbformat": 4,
 "nbformat_minor": 4
}
