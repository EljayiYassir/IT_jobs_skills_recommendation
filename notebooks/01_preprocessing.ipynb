{
 "cells": [
  {
   "cell_type": "markdown",
   "id": "d3689aa4-3740-4075-8a0e-5315dad67b18",
   "metadata": {},
   "source": [
    "<h1 id=\"heading\"><center><span style=\"background-color:#5642C5; color:white ; display:fill;border-radius:5px; font-family:cursive\"> 1. Data Preprocessing 📊🔬</span></center><a class=\"anchor-link\" href=\"\">¶</a></h1>"
   ]
  },
  {
   "cell_type": "code",
   "execution_count": null,
   "id": "e49f2979-985d-478d-8ce7-1e8dc743ad4e",
   "metadata": {},
   "outputs": [],
   "source": [
    "# Constante\n",
    "DATA_PATH = '/home/saitama/Project/first_endtoend_project/data/raw/survey_results_public.csv' \n",
    "EXPORT_PATH = \"../data/processed/1_preprocessed_df.pkl\"\n",
    "JOB_LIST_PATH =\"../data/raw/job_list.csv\" \n",
    "\n",
    "REPLACE_DICT = {\n",
    "    'Age1stCode': {'Younger than 5 years': 4, 'Older than 85': 86},\n",
    "    'YearsCodePro': {'Less than 1 year': 0, 'More than 50 years': 51}, \n",
    "    'YearsCode':    {'Less than 1 year': 0, 'More than 50 years': 51},\n",
    "    }\n",
    "# Columns has multiple answers on each value\n",
    "COLUMNS_NEED_SPLIT = [\"DatabaseDesireNextYear\", \"DatabaseWorkedWith\",\n",
    "                      \"DevType\",\n",
    "                      \"LanguageWorkedWith\", \"LanguageDesireNextYear\",\n",
    "                      \"NEWCollabToolsDesireNextYear\", \"NEWCollabToolsWorkedWith\",\n",
    "                      \"OpSys\", \"PlatformDesireNextYear\", \"PlatformWorkedWith\",\n",
    "                      \"UndergradMajor\",\n",
    "                      \"MiscTechDesireNextYear\", \"MiscTechWorkedWith\",\n",
    "                      \"WebframeDesireNextYear\", \"WebframeWorkedWith\"]\n",
    "\n",
    "# Columns need to be integer \n",
    "COLUMNS_HAVE_PROB = [\"Age1stCode\", \"YearsCodePro\", \"YearsCode\"]\n",
    "COLUMNS_TO_USE = COLUMNS_HAVE_PROB + COLUMNS_NEED_SPLIT\n",
    "\n",
    "COLUMNS_FOR_JOB_HUNT = [\"NEWJobHuntResearch\", \"NEWJobHunt\"]"
   ]
  },
  {
   "cell_type": "markdown",
   "id": "200bc588-5a15-4235-9a87-25ddaf7d0918",
   "metadata": {
    "tags": []
   },
   "source": [
    "***\n",
    "<h3 id=\"heading\"><span style=\"background-color:#cefffb; color:#1b4946 ; display:fill;border-radius:5px; font-family:cursive\"> 📥 Import packages & data </span></h3>"
   ]
  },
  {
   "cell_type": "code",
   "execution_count": null,
   "id": "5cf0915f-2cf2-468d-87d6-ea31e49c062f",
   "metadata": {},
   "outputs": [],
   "source": [
    "# Load necessary package \n",
    "import pandas as pd\n",
    "import numpy as np\n",
    "import pickle\n",
    "import logging\n",
    "import math\n",
    "import random\n",
    "import os\n",
    "\n",
    "pd.options.display.max_rows = 50000\n",
    "\n",
    "raw_df = pd.read_csv(DATA_PATH)"
   ]
  },
  {
   "cell_type": "markdown",
   "id": "8b4192e1-6fc5-4548-8143-4c6fabe64695",
   "metadata": {
    "tags": []
   },
   "source": [
    "***\n",
    "<h2 id=\"heading\"><span style=\"background-color:#cefffb; color:#1b4946; display:fill;border-radius:5px; font-family:cursive\"> 📢 Helper Function  </span></h2>"
   ]
  },
  {
   "cell_type": "code",
   "execution_count": null,
   "id": "f922f281-9e0f-40d2-a00e-518f16e62aa4",
   "metadata": {},
   "outputs": [],
   "source": [
    "# Function \n",
    "def split_answers(column_serie, separator=';'):\n",
    "    \"\"\"\n",
    "    Split multiple answers in a single string \n",
    "    to a list of single strings each represnting a single answers \n",
    "    \n",
    "    Parametres:\n",
    "    * column_Serie (pd.Series): string serie with multiple answers\n",
    "    * separator (String): an other string that \n",
    "    \n",
    "    return: (pd.Serie) contain serie of list \n",
    "    \"\"\"\n",
    "    \n",
    "    # Sub-function checking if they are multiple answers\n",
    "    def multi_value_checker(pd_series, separator):\n",
    "        \"\"\" Check if the answer can be splitted by the separator - Returns boolean \"\"\"\n",
    "        return pd_series.str.contains(pat=separator)\n",
    "    \n",
    "    # Sub-function split each answer\n",
    "    def split_answer(pd_series, separator):\n",
    "        \"\"\" Split the string value by the separator - return list \"\"\"\n",
    "        return pd_series.str.split(separator) \n",
    "\n",
    "    # Check if the column_serie is splitable\n",
    "    val_splitable = multi_value_checker(column_serie, separator)\n",
    "    if not val_splitable.any():\n",
    "        return column_serie\n",
    "        \n",
    "    # If val_splitable.any() is True then split the column\n",
    "    column_splited = split_answer(column_serie, separator)\n",
    "                                  \n",
    "    # Replace the empty value by an empty list\n",
    "    null_answers_bool = column_splited.isnull()\n",
    "    column_splited.loc[null_answers_bool] = column_splited.loc[null_answers_bool].apply(lambda x: [])\n",
    "    \n",
    "    return column_splited"
   ]
  },
  {
   "cell_type": "markdown",
   "id": "37ad8341-e3f4-45ca-be56-2eb6a86762c1",
   "metadata": {
    "tags": []
   },
   "source": [
    "***\n",
    "<h2 id=\"heading\"><span style=\"background-color:#cefffb; color:#1b4946; display:fill;border-radius:5px; font-family:cursive\"> 🧮 Preprocessing </span></h2>"
   ]
  },
  {
   "cell_type": "markdown",
   "id": "8e9b89ea-7e06-423d-835c-eaa5b5f7e845",
   "metadata": {},
   "source": [
    "<h4 id=\"heading\"><span style=\"background-color:#fcf3b9; color:#3d3710 ; display:fill;border-radius:5px; font-family:Georgia\"> 📋 Preprocessing Data </span></h4>"
   ]
  },
  {
   "cell_type": "code",
   "execution_count": null,
   "id": "174e2340-d6f7-406a-83b7-eb22aa236f46",
   "metadata": {},
   "outputs": [],
   "source": [
    "df = raw_df.copy()"
   ]
  },
  {
   "cell_type": "markdown",
   "id": "e55b10c3-0fe6-4ad0-890d-1db91e56a917",
   "metadata": {},
   "source": [
    "<h4 id=\"heading\"><span style=\"background-color:#fcf3b9; color:#3d3710 ; display:fill;border-radius:5px; font-family:Georgia\">1. 🔨🪛 Split Multiple Value\n",
    "</span></h4>"
   ]
  },
  {
   "cell_type": "code",
   "execution_count": null,
   "id": "44a29a4a-4dae-4e3a-9ff5-9203e6bb276c",
   "metadata": {},
   "outputs": [],
   "source": [
    "COLUMNS_SPLIT = df.select_dtypes('object').columns.to_list()\n",
    "for column in COLUMNS_SPLIT:\n",
    "    df[column] = split_answers(df[column],';')"
   ]
  },
  {
   "cell_type": "markdown",
   "id": "2bca733e-25f1-431f-97b3-f325c242f004",
   "metadata": {},
   "source": [
    "<h4 id=\"heading\"><span style=\"background-color:#fcf3b9; color:#3d3710 ; display:fill;border-radius:5px; font-family:Georgia\">2. 🔨🪛 Replace Values </span></h4>"
   ]
  },
  {
   "cell_type": "code",
   "execution_count": null,
   "id": "e681d792-c2ae-4481-ad31-aedb834713e4",
   "metadata": {},
   "outputs": [],
   "source": [
    "# Change string value by the dictionary REPLACE_DICT (Pandas Remap Values)\n",
    "df[COLUMNS_HAVE_PROB] = df[COLUMNS_HAVE_PROB].replace(REPLACE_DICT).astype(np.float32)\n",
    "\n",
    "# Replace null value\n",
    "for column in COLUMNS_HAVE_PROB:\n",
    "    df[column].fillna(df[column].mean(), inplace = True)\n"
   ]
  },
  {
   "cell_type": "markdown",
   "id": "e1619bb4-5ca1-449a-b0c3-860a47bd47da",
   "metadata": {
    "tags": []
   },
   "source": [
    "***\n",
    "<h2 id=\"heading\"><span style=\"background-color:#cefffb; color:#1b4946; display:fill;border-radius:5px; font-family:cursive\"> 💱 Check the change  </span></h2>"
   ]
  },
  {
   "cell_type": "code",
   "execution_count": null,
   "id": "f2b66940-eb55-4cba-97c6-d8e0995974f8",
   "metadata": {},
   "outputs": [],
   "source": [
    "test_col = random.choice(df.columns)\n",
    "n_sample = random.randint(0, len(df))\n",
    "print(test_col + '\\n'+'-'*20)\n",
    "print('In The Modified Data :', df[test_col].iloc[n_sample])\n",
    "print('In The Actuel Data   :', raw_df[test_col].iloc[n_sample])"
   ]
  },
  {
   "cell_type": "markdown",
   "id": "615a59af-7c23-49bd-ab31-022f998efc10",
   "metadata": {
    "tags": []
   },
   "source": [
    "***\n",
    "<h2 id=\"heading\"><span style=\"background-color:#cefffb; color:#1b4946; display:fill;border-radius:5px; font-family:cursive\"> 📤 Exporting Pickle </span></h2>"
   ]
  },
  {
   "cell_type": "code",
   "execution_count": null,
   "id": "63956044-796d-4450-aaf1-d312225bd61a",
   "metadata": {},
   "outputs": [],
   "source": [
    "EXPORT_PATH"
   ]
  },
  {
   "cell_type": "code",
   "execution_count": null,
   "id": "8e329832-d0c6-4c35-82ae-118ef127784f",
   "metadata": {},
   "outputs": [],
   "source": [
    "with open(EXPORT_PATH, 'wb') as f:\n",
    "    pickle.dump(df, f)\n",
    "# We can also use: $ df.to_pickle(EXPORT_PATH)"
   ]
  },
  {
   "cell_type": "code",
   "execution_count": null,
   "id": "cfa7c75d-c188-478b-bb30-80860b2d71fc",
   "metadata": {
    "tags": []
   },
   "outputs": [],
   "source": [
    "# For import the pickle from the path\n",
    "xr= pd.read_pickle(EXPORT_PATH)"
   ]
  },
  {
   "cell_type": "code",
   "execution_count": null,
   "id": "981c05d2-e3fd-4d39-b74c-4b14bb153774",
   "metadata": {
    "tags": []
   },
   "outputs": [],
   "source": [
    "ROLE_COLS = []\n",
    "for n in range(0,len(df)-1):\n",
    "    ROLE_COLS += df['DevType'].iloc[n]"
   ]
  },
  {
   "cell_type": "code",
   "execution_count": null,
   "id": "9aaee3a3-ec96-47d1-a31b-4ad540ff7e86",
   "metadata": {},
   "outputs": [],
   "source": [
    "JOB_LIST = np.unique(ROLE_COLS).tolist()"
   ]
  },
  {
   "cell_type": "code",
   "execution_count": null,
   "id": "9d104fda-8c63-499d-aaae-b6cb0be964e8",
   "metadata": {},
   "outputs": [],
   "source": [
    "jf = pd.DataFrame(JOB_LIST)\n",
    "jf.to_csv(JOB_LIST_PATH)"
   ]
  },
  {
   "cell_type": "code",
   "execution_count": null,
   "id": "6b162f71-3e29-424e-8a14-3947a44b9a6e",
   "metadata": {},
   "outputs": [],
   "source": [
    "jf"
   ]
  },
  {
   "cell_type": "markdown",
   "id": "748e1b13-2a5c-4af5-92ff-a240102cb9ea",
   "metadata": {},
   "source": [
    "### **🏅The index of person that  was has less than 5 years when they start coding**"
   ]
  },
  {
   "cell_type": "code",
   "execution_count": null,
   "id": "883f17da-134e-40d6-bad5-3cde05619a7f",
   "metadata": {
    "tags": []
   },
   "outputs": [],
   "source": [
    "print(\"The index of person that  was has more than 85 years when they start coding:\\n\\n\",\n",
    "      raw_df[raw_df[\"Age1stCode\"]==\"Older than 85\"].index.values)\n",
    "print(\"--\"*30)\n",
    "print(\"The number of person that  was has more than 85 years when they start coding:-->\",\n",
    "      len(raw_df[raw_df[\"Age1stCode\"]==\"Older than 85\"].index.values))"
   ]
  },
  {
   "cell_type": "markdown",
   "id": "3ff0eef8-08f2-4b11-b11a-b94aa687f3a6",
   "metadata": {},
   "source": [
    " 1. **Display the row of Respondent who has more than 85 years when they start coding**"
   ]
  },
  {
   "cell_type": "code",
   "execution_count": null,
   "id": "934c5e15-7868-41fb-814c-7c2cb722daa8",
   "metadata": {
    "tags": []
   },
   "outputs": [],
   "source": [
    " raw_df[raw_df[\"Age1stCode\"]==\"Older than 85\"].sample(1).iloc[0]"
   ]
  },
  {
   "cell_type": "markdown",
   "id": "bdca64a9-8488-4d91-9198-9d9757224269",
   "metadata": {},
   "source": [
    "### **🏅The index of person that  was has less than 5 years when they start coding**"
   ]
  },
  {
   "cell_type": "code",
   "execution_count": null,
   "id": "653218b3-6661-46aa-90e0-47aa89563d46",
   "metadata": {
    "tags": []
   },
   "outputs": [],
   "source": [
    "print(\"The index of person that  was has less than 5 years when they start coding:\\n\\n\",\n",
    "      raw_df[raw_df[\"Age1stCode\"]==\"Younger than 5 years\"].index.values)\n",
    "print(\"--\"*30)\n",
    "print(\"The number of person that  was has less than 5 years when they start coding:-->\",\n",
    "      len(raw_df[raw_df[\"Age1stCode\"]==\"Younger than 5 years\"].index.values))"
   ]
  },
  {
   "cell_type": "markdown",
   "id": "d0e0cbce-c504-4556-b8b7-999f59ce932e",
   "metadata": {},
   "source": [
    " 1. **Display the row of Respondent who has more than 85 years when they start coding**"
   ]
  },
  {
   "cell_type": "code",
   "execution_count": null,
   "id": "2182bcf2-1068-496b-932f-22c96e6b80ec",
   "metadata": {
    "tags": []
   },
   "outputs": [],
   "source": [
    " raw_df[raw_df[\"Age1stCode\"]==\"Younger than 5 years\"].sample(1).iloc[0]"
   ]
  },
  {
   "cell_type": "code",
   "execution_count": null,
   "id": "389f9abb-1109-4ba6-9368-083b7b62012d",
   "metadata": {},
   "outputs": [],
   "source": [
    "print(raw_df.columns.tolist())"
   ]
  },
  {
   "cell_type": "markdown",
   "id": "82e18978-03df-436b-b77c-396fab7cd0c5",
   "metadata": {
    "tags": []
   },
   "source": [
    "# 👨‍‍🔧 **Preprocessing**\n",
    "\n"
   ]
  },
  {
   "cell_type": "markdown",
   "id": "3ed3a39b-002b-4134-8e02-28ff11feabd7",
   "metadata": {},
   "source": [
    "## 🔬👓 Exploring Columns values"
   ]
  },
  {
   "cell_type": "markdown",
   "id": "e630f186-f7ca-4685-8ada-0c84a5ab6be4",
   "metadata": {},
   "source": [
    "### 1️⃣ \"MainBranch\" "
   ]
  },
  {
   "cell_type": "code",
   "execution_count": null,
   "id": "8bd35c2e-b73c-4792-8bb5-1259b2c41232",
   "metadata": {
    "tags": []
   },
   "outputs": [],
   "source": [
    "print(raw_df[\"MainBranch\"].unique().tolist())"
   ]
  },
  {
   "cell_type": "code",
   "execution_count": null,
   "id": "cb04695b-7ee9-4da6-a8ad-d234850d8d44",
   "metadata": {
    "tags": []
   },
   "outputs": [],
   "source": [
    "# Change the value of the VALUE_TEST from any value of the  MainBranch column\n",
    "# VALUE_TEST = \"I am a developer by profession\"\n",
    "# VALUE_TEST = \"I code primarily as a hobby\"\n",
    "VALUE_TEST = \"I used to be a developer by profession, but no longer am\"\n",
    "# VALUE_TEST = \"I am not primarily a developer, but I write code sometimes as part of my work\"\n",
    "# VALUE_TEST = \"I am a student who is learning to code\"\n",
    "raw_df[raw_df[\"MainBranch\"]==VALUE_TEST].sample(1).iloc[0]"
   ]
  },
  {
   "cell_type": "code",
   "execution_count": null,
   "id": "acffcede-358a-4336-8332-b1e052172b07",
   "metadata": {
    "tags": []
   },
   "outputs": [],
   "source": [
    "raw_df[raw_df[\"MainBranch\"]==VALUE_TEST].shape\n",
    "raw_df[raw_df[\"MainBranch\"]==VALUE_TEST].describe()\n",
    "raw_df[raw_df[\"MainBranch\"]==VALUE_TEST].info()"
   ]
  },
  {
   "cell_type": "code",
   "execution_count": null,
   "id": "fd17fc1b-678d-4a8a-bbe7-3398da4fd35b",
   "metadata": {},
   "outputs": [],
   "source": [
    "print(f\"The mean age of coresponding that has '{VALUE_TEST}' is :\",raw_df[raw_df[\"MainBranch\"]==VALUE_TEST][\"Age\"].mean())"
   ]
  },
  {
   "cell_type": "code",
   "execution_count": null,
   "id": "e5a34220-d77b-4fe9-ae7a-dc227a1339fc",
   "metadata": {},
   "outputs": [],
   "source": [
    "raw_df"
   ]
  }
 ],
 "metadata": {
  "kernelspec": {
   "display_name": "Python 3 (ipykernel)",
   "language": "python",
   "name": "python3"
  },
  "language_info": {
   "codemirror_mode": {
    "name": "ipython",
    "version": 3
   },
   "file_extension": ".py",
   "mimetype": "text/x-python",
   "name": "python",
   "nbconvert_exporter": "python",
   "pygments_lexer": "ipython3",
   "version": "3.11.4"
  }
 },
 "nbformat": 4,
 "nbformat_minor": 5
}
